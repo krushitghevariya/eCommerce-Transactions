{
 "cells": [
  {
   "cell_type": "code",
   "execution_count": 3,
   "metadata": {},
   "outputs": [],
   "source": [
    "import pandas as pd\n",
    "from sklearn.preprocessing import StandardScaler\n",
    "from sklearn.metrics.pairwise import cosine_similarity"
   ]
  },
  {
   "cell_type": "code",
   "execution_count": 4,
   "metadata": {},
   "outputs": [],
   "source": [
    "# Load customer data\n",
    "customers = pd.read_csv('Customers.csv')\n",
    "transactions = pd.read_csv('Transactions.csv')\n",
    "products = pd.read_csv('Products.csv')"
   ]
  },
  {
   "cell_type": "code",
   "execution_count": 5,
   "metadata": {},
   "outputs": [],
   "source": [
    "# Merge transactions with products to get product information\n",
    "transaction_details = pd.merge(transactions, products, on='ProductID')"
   ]
  },
  {
   "cell_type": "code",
   "execution_count": 6,
   "metadata": {},
   "outputs": [],
   "source": [
    "# Aggregate transaction details to get customer profiles\n",
    "customer_profile = transaction_details.groupby('CustomerID').agg({\n",
    "    'Category': lambda x: x.value_counts().index[0],  # Most common category  # Total amount spent\n",
    "    'TransactionID': 'count'  # Total number of transactions\n",
    "}).reset_index()"
   ]
  },
  {
   "cell_type": "code",
   "execution_count": 7,
   "metadata": {},
   "outputs": [],
   "source": [
    "# Merge customer profiles with customer data\n",
    "customer_data = pd.merge(customers, customer_profile, on='CustomerID').reset_index()"
   ]
  },
  {
   "cell_type": "markdown",
   "metadata": {},
   "source": [
    "# **Feature Engineneering**"
   ]
  },
  {
   "cell_type": "code",
   "execution_count": 8,
   "metadata": {},
   "outputs": [],
   "source": [
    "# Encode categorical features\n",
    "customer_data = pd.get_dummies(customer_data, columns=['Region', 'Category'])"
   ]
  },
  {
   "cell_type": "code",
   "execution_count": 9,
   "metadata": {},
   "outputs": [],
   "source": [
    "# Standardize numerical features\n",
    "scaler = StandardScaler()"
   ]
  },
  {
   "cell_type": "code",
   "execution_count": 10,
   "metadata": {},
   "outputs": [],
   "source": [
    "# Drop non-numeric columns before scaling\n",
    "columns_to_drop = ['CustomerID', 'CustomerName', 'SignupDate']\n",
    "feature_columns = customer_data.drop(columns=columns_to_drop).columns\n",
    "\n",
    "customer_data[feature_columns] = scaler.fit_transform(customer_data[feature_columns])"
   ]
  },
  {
   "cell_type": "code",
   "execution_count": 11,
   "metadata": {},
   "outputs": [
    {
     "name": "stdout",
     "output_type": "stream",
     "text": [
      "      index CustomerID        CustomerName  SignupDate  TransactionID  \\\n",
      "0 -1.723369      C0001    Lawrence Carroll  2022-07-10      -0.011458   \n",
      "1 -1.705961      C0002      Elizabeth Lutz  2022-02-13      -0.467494   \n",
      "2 -1.688553      C0003      Michael Rivera  2024-03-07      -0.467494   \n",
      "3 -1.671145      C0004  Kathleen Rodriguez  2022-10-09       1.356650   \n",
      "4 -1.653738      C0005         Laura Weber  2022-08-15      -0.923530   \n",
      "\n",
      "   Region_Asia  Region_Europe  Region_North America  Region_South America  \\\n",
      "0    -0.532795      -0.579284             -0.548319              1.540416   \n",
      "1     1.876893      -0.579284             -0.548319             -0.649175   \n",
      "2    -0.532795      -0.579284             -0.548319              1.540416   \n",
      "3    -0.532795      -0.579284             -0.548319              1.540416   \n",
      "4     1.876893      -0.579284             -0.548319             -0.649175   \n",
      "\n",
      "   Category_Books  Category_Clothing  Category_Electronics  \\\n",
      "0       -0.548319          -0.517219              1.597990   \n",
      "1       -0.548319          -0.517219             -0.625786   \n",
      "2       -0.548319          -0.517219             -0.625786   \n",
      "3        1.823756          -0.517219             -0.625786   \n",
      "4       -0.548319          -0.517219              1.597990   \n",
      "\n",
      "   Category_Home Decor  \n",
      "0            -0.618017  \n",
      "1             1.618080  \n",
      "2             1.618080  \n",
      "3            -0.618017  \n",
      "4            -0.618017  \n"
     ]
    }
   ],
   "source": [
    "# Check the data after preprocessing\n",
    "print(customer_data.head())"
   ]
  },
  {
   "cell_type": "markdown",
   "metadata": {},
   "source": [
    "# **Model Devlopment**"
   ]
  },
  {
   "cell_type": "code",
   "execution_count": 12,
   "metadata": {},
   "outputs": [],
   "source": [
    "# Ensure only numeric columns are used for similarity computation\n",
    "customer_features = customer_data[feature_columns]\n",
    "cosine_sim = cosine_similarity(customer_features)\n",
    "\n",
    "# Convert cosine similarity matrix to a DataFrame\n",
    "similarity_df = pd.DataFrame(cosine_sim, index=customer_data['CustomerID'], columns=customer_data['CustomerID'])\n",
    "\n",
    "# Function to get top 3 lookalikes for each customer\n",
    "def get_top_lookalikes(customer_id, n=3):\n",
    "    scores = similarity_df.loc[customer_id].sort_values(ascending=False)\n",
    "    top_lookalikes = scores.iloc[1:n+1]  # Exclude the customer itself\n",
    "    return list(zip(top_lookalikes.index, top_lookalikes.values))\n",
    "\n",
    "# Generate lookalikes for the first 20 customers\n",
    "lookalikes = {}\n",
    "for customer_id in customers['CustomerID'][:20]:\n",
    "    lookalikes[customer_id] = get_top_lookalikes(customer_id)\n",
    "\n",
    "# Convert lookalikes to DataFrame\n",
    "lookalikes_df = pd.DataFrame({'CustomerID': lookalikes.keys(), 'Lookalikes': lookalikes.values()})"
   ]
  },
  {
   "cell_type": "code",
   "execution_count": 13,
   "metadata": {},
   "outputs": [],
   "source": [
    "# Save to CSV\n",
    "lookalikes_df.to_csv('Krushit_Ghevariya_Lookalike.csv', index=False)"
   ]
  }
 ],
 "metadata": {
  "kernelspec": {
   "display_name": "Projects",
   "language": "python",
   "name": "python3"
  },
  "language_info": {
   "codemirror_mode": {
    "name": "ipython",
    "version": 3
   },
   "file_extension": ".py",
   "mimetype": "text/x-python",
   "name": "python",
   "nbconvert_exporter": "python",
   "pygments_lexer": "ipython3",
   "version": "3.12.7"
  }
 },
 "nbformat": 4,
 "nbformat_minor": 2
}
